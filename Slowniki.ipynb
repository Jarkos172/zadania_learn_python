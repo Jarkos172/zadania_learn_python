{
 "cells": [
  {
   "cell_type": "code",
   "execution_count": 1,
   "metadata": {},
   "outputs": [
    {
     "name": "stdout",
     "output_type": "stream",
     "text": [
      "Jakub jest w kontaktach.\n",
      "Jego numer to  938273443 .\n",
      "Kamili nie ma w kontaktach.\n"
     ]
    }
   ],
   "source": [
    "kontakty = {\n",
    "    \"Bartek\" : 938477566,\n",
    "    \"Monika\" : 938377264,\n",
    "    \"Kamila\" : 947662781\n",
    "}\n",
    "\n",
    "\n",
    "kontakty = {\n",
    "    \"Jakub\" : 938273443\n",
    "}\n",
    "kontakty.pop(\"Kamila\", 947662781)\n",
    "\n",
    "\n",
    "if \"Jakub\" in kontakty and kontakty[\"Jakub\" ] == 938273443:\n",
    "    print (\"Jakub jest w kontaktach.\")\n",
    "    print (\"Jego numer to \", kontakty[\"Jakub\"], \".\")\n",
    "if \"Kamila\" not in kontakty:\n",
    "    print (\"Kamili nie ma w kontaktach.\")"
   ]
  },
  {
   "cell_type": "code",
   "execution_count": null,
   "metadata": {},
   "outputs": [],
   "source": []
  }
 ],
 "metadata": {
  "kernelspec": {
   "display_name": "Python 3",
   "language": "python",
   "name": "python3"
  },
  "language_info": {
   "codemirror_mode": {
    "name": "ipython",
    "version": 3
   },
   "file_extension": ".py",
   "mimetype": "text/x-python",
   "name": "python",
   "nbconvert_exporter": "python",
   "pygments_lexer": "ipython3",
   "version": "3.7.4"
  }
 },
 "nbformat": 4,
 "nbformat_minor": 2
}
