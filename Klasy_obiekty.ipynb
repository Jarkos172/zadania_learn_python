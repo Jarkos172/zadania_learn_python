{
 "cells": [
  {
   "cell_type": "code",
   "execution_count": 1,
   "metadata": {},
   "outputs": [
    {
     "name": "stdout",
     "output_type": "stream",
     "text": [
      "Ferrari to czerwony kabriolet warty 60000.00 zl.\n",
      "Ikarus to niebieski autobus warty 10000.00 zl.\n"
     ]
    }
   ],
   "source": [
    "class Pojazd:\n",
    "    nazwa = \"\"\n",
    "    rodzaj = \"auto\"\n",
    "    kolor = \"\"\n",
    "    wartosc = 100.00\n",
    "    def opis(self):\n",
    "        napis_opisu = \"%s to %s %s warty %.2f zl.\" % (self.nazwa, self.kolor, self.rodzaj, self.wartosc)\n",
    "        return napis_opisu\n",
    "\n",
    "\n",
    "auto1 = Pojazd()\n",
    "auto1.nazwa = \"Ferrari\"\n",
    "auto1.rodzaj = \"kabriolet\"\n",
    "auto1.kolor = \"czerwony\"\n",
    "auto1.wartosc = 60000\n",
    "auto2 = Pojazd()\n",
    "auto2.nazwa = \"Ikarus\"\n",
    "auto2.rodzaj = \"autobus\"\n",
    "auto2.kolor = \"niebieski\"\n",
    "auto2.wartosc = 10000\n",
    "\n",
    "\n",
    "print (auto1.opis())\n",
    "print (auto2.opis())"
   ]
  },
  {
   "cell_type": "code",
   "execution_count": null,
   "metadata": {},
   "outputs": [],
   "source": []
  }
 ],
 "metadata": {
  "kernelspec": {
   "display_name": "Python 3",
   "language": "python",
   "name": "python3"
  },
  "language_info": {
   "codemirror_mode": {
    "name": "ipython",
    "version": 3
   },
   "file_extension": ".py",
   "mimetype": "text/x-python",
   "name": "python",
   "nbconvert_exporter": "python",
   "pygments_lexer": "ipython3",
   "version": "3.7.4"
  }
 },
 "nbformat": 4,
 "nbformat_minor": 2
}
